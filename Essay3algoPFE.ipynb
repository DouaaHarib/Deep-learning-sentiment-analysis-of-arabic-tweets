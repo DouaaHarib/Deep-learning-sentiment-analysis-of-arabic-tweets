{
  "cells": [
    {
      "cell_type": "markdown",
      "metadata": {
        "id": "Klf1-MC3DEhi"
      },
      "source": [
        "We use arabic tweet dataset"
      ]
    },
    {
      "cell_type": "code",
      "execution_count": null,
      "metadata": {
        "colab": {
          "base_uri": "https://localhost:8080/"
        },
        "id": "kvOJw5Bg6c5J",
        "outputId": "6de08238-a180-4f25-ff74-8a8c2ac8135c"
      },
      "outputs": [
        {
          "output_type": "stream",
          "name": "stdout",
          "text": [
            "--2022-04-23 20:14:08--  https://raw.githubusercontent.com/mahmoudnabil/ASTD/master/data/Tweets.txt\n",
            "Resolving raw.githubusercontent.com (raw.githubusercontent.com)... 185.199.109.133, 185.199.108.133, 185.199.110.133, ...\n",
            "Connecting to raw.githubusercontent.com (raw.githubusercontent.com)|185.199.109.133|:443... connected.\n",
            "HTTP request sent, awaiting response... 200 OK\n",
            "Length: 1561622 (1.5M) [text/plain]\n",
            "Saving to: ‘Tweets.txt’\n",
            "\n",
            "\rTweets.txt            0%[                    ]       0  --.-KB/s               \rTweets.txt          100%[===================>]   1.49M  --.-KB/s    in 0.06s   \n",
            "\n",
            "2022-04-23 20:14:09 (26.9 MB/s) - ‘Tweets.txt’ saved [1561622/1561622]\n",
            "\n"
          ]
        }
      ],
      "source": [
        "!wget https://raw.githubusercontent.com/mahmoudnabil/ASTD/master/data/Tweets.txt"
      ]
    },
    {
      "cell_type": "markdown",
      "metadata": {
        "id": "ZwlvjSR-DS15"
      },
      "source": [
        "## Imports"
      ]
    },
    {
      "cell_type": "code",
      "execution_count": null,
      "metadata": {
        "id": "23FSFg5t6fc1",
        "colab": {
          "base_uri": "https://localhost:8080/"
        },
        "outputId": "9dca5303-25ef-462e-c525-35dfc1f1699b"
      },
      "outputs": [
        {
          "output_type": "stream",
          "name": "stdout",
          "text": [
            "[nltk_data] Downloading package stopwords to /root/nltk_data...\n",
            "[nltk_data]   Unzipping corpora/stopwords.zip.\n"
          ]
        }
      ],
      "source": [
        "import pandas as pd # for reading csv file\n",
        "import tensorflow as tf\n",
        "import re\n",
        "import numpy as np\n",
        "import csv \n",
        "from tensorflow.keras.layers import GRU, Embedding, Dense, Input, Dropout, Bidirectional\n",
        "from tensorflow.compat.v1.keras.layers import CuDNNLSTM\n",
        "from tensorflow.keras.models import Sequential\n",
        "from keras.preprocessing.text import Tokenizer, text_to_word_sequence\n",
        "from keras.preprocessing.sequence import pad_sequences\n",
        "\n",
        "from sklearn.utils import shuffle\n",
        "from nltk.corpus import stopwords # list of stop words\n",
        "import nltk # for processing texts\n",
        "from io import StringIO\n",
        "nltk.download('stopwords')\n",
        "from sklearn.model_selection import train_test_split  # for splitting data"
      ]
    },
    {
      "cell_type": "code",
      "source": [
        "read_file = pd.read_csv (r'Tweets.txt',on_bad_lines='skip')#\n",
        "read_file.to_csv (r'DatasetTweets.csv', index=None)\n",
        "data = pd.read_csv(r\"DatasetTweets.csv\")\n"
      ],
      "metadata": {
        "id": "veu61Tlug5fu"
      },
      "execution_count": null,
      "outputs": []
    },
    {
      "cell_type": "code",
      "source": [
        "data.head()"
      ],
      "metadata": {
        "colab": {
          "base_uri": "https://localhost:8080/",
          "height": 206
        },
        "id": "WpLQ2fs52fE3",
        "outputId": "0a20bb2f-214e-4dfb-a2e2-99867e1f278b"
      },
      "execution_count": null,
      "outputs": [
        {
          "output_type": "execute_result",
          "data": {
            "text/plain": [
              "                                                text  polarity\n",
              "0  بعد استقالة رئيس #المحكمة_الدستورية ننتظر استق...    Neutre\n",
              "1  أهنئ الدكتور أحمد جمال الدين، القيادي بحزب مصر...  Positive\n",
              "2  البرادعي يستقوى بامريكا مرةاخرى و يرسل عصام ال...  Negative\n",
              "3  #الحرية_والعدالة | شاهد الآن: #ليلة_الاتحادية ...    Neutre\n",
              "4  الوالدة لو اقولها بخاطري حشيشة تضحك بس من اقول...    Neutre"
            ],
            "text/html": [
              "\n",
              "  <div id=\"df-c0e14363-22e3-4247-be21-7290163a3439\">\n",
              "    <div class=\"colab-df-container\">\n",
              "      <div>\n",
              "<style scoped>\n",
              "    .dataframe tbody tr th:only-of-type {\n",
              "        vertical-align: middle;\n",
              "    }\n",
              "\n",
              "    .dataframe tbody tr th {\n",
              "        vertical-align: top;\n",
              "    }\n",
              "\n",
              "    .dataframe thead th {\n",
              "        text-align: right;\n",
              "    }\n",
              "</style>\n",
              "<table border=\"1\" class=\"dataframe\">\n",
              "  <thead>\n",
              "    <tr style=\"text-align: right;\">\n",
              "      <th></th>\n",
              "      <th>text</th>\n",
              "      <th>polarity</th>\n",
              "    </tr>\n",
              "  </thead>\n",
              "  <tbody>\n",
              "    <tr>\n",
              "      <th>0</th>\n",
              "      <td>بعد استقالة رئيس #المحكمة_الدستورية ننتظر استق...</td>\n",
              "      <td>Neutre</td>\n",
              "    </tr>\n",
              "    <tr>\n",
              "      <th>1</th>\n",
              "      <td>أهنئ الدكتور أحمد جمال الدين، القيادي بحزب مصر...</td>\n",
              "      <td>Positive</td>\n",
              "    </tr>\n",
              "    <tr>\n",
              "      <th>2</th>\n",
              "      <td>البرادعي يستقوى بامريكا مرةاخرى و يرسل عصام ال...</td>\n",
              "      <td>Negative</td>\n",
              "    </tr>\n",
              "    <tr>\n",
              "      <th>3</th>\n",
              "      <td>#الحرية_والعدالة | شاهد الآن: #ليلة_الاتحادية ...</td>\n",
              "      <td>Neutre</td>\n",
              "    </tr>\n",
              "    <tr>\n",
              "      <th>4</th>\n",
              "      <td>الوالدة لو اقولها بخاطري حشيشة تضحك بس من اقول...</td>\n",
              "      <td>Neutre</td>\n",
              "    </tr>\n",
              "  </tbody>\n",
              "</table>\n",
              "</div>\n",
              "      <button class=\"colab-df-convert\" onclick=\"convertToInteractive('df-c0e14363-22e3-4247-be21-7290163a3439')\"\n",
              "              title=\"Convert this dataframe to an interactive table.\"\n",
              "              style=\"display:none;\">\n",
              "        \n",
              "  <svg xmlns=\"http://www.w3.org/2000/svg\" height=\"24px\"viewBox=\"0 0 24 24\"\n",
              "       width=\"24px\">\n",
              "    <path d=\"M0 0h24v24H0V0z\" fill=\"none\"/>\n",
              "    <path d=\"M18.56 5.44l.94 2.06.94-2.06 2.06-.94-2.06-.94-.94-2.06-.94 2.06-2.06.94zm-11 1L8.5 8.5l.94-2.06 2.06-.94-2.06-.94L8.5 2.5l-.94 2.06-2.06.94zm10 10l.94 2.06.94-2.06 2.06-.94-2.06-.94-.94-2.06-.94 2.06-2.06.94z\"/><path d=\"M17.41 7.96l-1.37-1.37c-.4-.4-.92-.59-1.43-.59-.52 0-1.04.2-1.43.59L10.3 9.45l-7.72 7.72c-.78.78-.78 2.05 0 2.83L4 21.41c.39.39.9.59 1.41.59.51 0 1.02-.2 1.41-.59l7.78-7.78 2.81-2.81c.8-.78.8-2.07 0-2.86zM5.41 20L4 18.59l7.72-7.72 1.47 1.35L5.41 20z\"/>\n",
              "  </svg>\n",
              "      </button>\n",
              "      \n",
              "  <style>\n",
              "    .colab-df-container {\n",
              "      display:flex;\n",
              "      flex-wrap:wrap;\n",
              "      gap: 12px;\n",
              "    }\n",
              "\n",
              "    .colab-df-convert {\n",
              "      background-color: #E8F0FE;\n",
              "      border: none;\n",
              "      border-radius: 50%;\n",
              "      cursor: pointer;\n",
              "      display: none;\n",
              "      fill: #1967D2;\n",
              "      height: 32px;\n",
              "      padding: 0 0 0 0;\n",
              "      width: 32px;\n",
              "    }\n",
              "\n",
              "    .colab-df-convert:hover {\n",
              "      background-color: #E2EBFA;\n",
              "      box-shadow: 0px 1px 2px rgba(60, 64, 67, 0.3), 0px 1px 3px 1px rgba(60, 64, 67, 0.15);\n",
              "      fill: #174EA6;\n",
              "    }\n",
              "\n",
              "    [theme=dark] .colab-df-convert {\n",
              "      background-color: #3B4455;\n",
              "      fill: #D2E3FC;\n",
              "    }\n",
              "\n",
              "    [theme=dark] .colab-df-convert:hover {\n",
              "      background-color: #434B5C;\n",
              "      box-shadow: 0px 1px 3px 1px rgba(0, 0, 0, 0.15);\n",
              "      filter: drop-shadow(0px 1px 2px rgba(0, 0, 0, 0.3));\n",
              "      fill: #FFFFFF;\n",
              "    }\n",
              "  </style>\n",
              "\n",
              "      <script>\n",
              "        const buttonEl =\n",
              "          document.querySelector('#df-c0e14363-22e3-4247-be21-7290163a3439 button.colab-df-convert');\n",
              "        buttonEl.style.display =\n",
              "          google.colab.kernel.accessAllowed ? 'block' : 'none';\n",
              "\n",
              "        async function convertToInteractive(key) {\n",
              "          const element = document.querySelector('#df-c0e14363-22e3-4247-be21-7290163a3439');\n",
              "          const dataTable =\n",
              "            await google.colab.kernel.invokeFunction('convertToInteractive',\n",
              "                                                     [key], {});\n",
              "          if (!dataTable) return;\n",
              "\n",
              "          const docLinkHtml = 'Like what you see? Visit the ' +\n",
              "            '<a target=\"_blank\" href=https://colab.research.google.com/notebooks/data_table.ipynb>data table notebook</a>'\n",
              "            + ' to learn more about interactive tables.';\n",
              "          element.innerHTML = '';\n",
              "          dataTable['output_type'] = 'display_data';\n",
              "          await google.colab.output.renderOutput(dataTable, element);\n",
              "          const docLink = document.createElement('div');\n",
              "          docLink.innerHTML = docLinkHtml;\n",
              "          element.appendChild(docLink);\n",
              "        }\n",
              "      </script>\n",
              "    </div>\n",
              "  </div>\n",
              "  "
            ]
          },
          "metadata": {},
          "execution_count": 4
        }
      ]
    },
    {
      "cell_type": "markdown",
      "metadata": {
        "id": "bfbnvdT4Cmz0"
      },
      "source": [
        "## Read the Dataset"
      ]
    },
    {
      "cell_type": "markdown",
      "metadata": {
        "id": "MKhqB_MfCjEP"
      },
      "source": [
        "preprocess a review by removing special characters and long spaces (clean dataset)"
      ]
    },
    {
      "cell_type": "code",
      "execution_count": null,
      "metadata": {
        "id": "uJYY29Za8fx2"
      },
      "outputs": [],
      "source": [
        "arabic_punctuations = '''`÷×؛<>_()*&^%][ـ،/:\"؟.,'{}~¦+|!”…“–ـ''' # define arabic punctuations\n",
        "\n",
        "def process_review(review):\n",
        "  out = re.sub(r\"[^\\w\\s]\", '', review)\n",
        "  out = re.sub(r\"[a-zA-Z]\", '', out)# remove english letters\n",
        "  out = re.sub(r\"\\n\", '', out) # remove \\n from text\n",
        "  out = re.sub(r'\\d+', '', out) #remove number\n",
        "  out = re.sub(r'http\\S+', '', out) # remove links\n",
        "  out = re.sub(r\"[\"\n",
        "        u\"\\U0001F600-\\U0001F64F\"  # emoticons\n",
        "        u\"\\U0001F300-\\U0001F5FF\"  # symbols & pictographs\n",
        "        u\"\\U0001F680-\\U0001F6FF\"  # transport & map symbols\n",
        "        u\"\\U0001F1E0-\\U0001F1FF\"  # flags (iOS)\n",
        "                           \"]\", '', out)                    #remove emojis\n",
        "  out = out.translate(str.maketrans('','', arabic_punctuations)) # remove punctuation\n",
        "  out = ' '.join([word for word in out.split() if word not in stopwords.words(\"arabic\")]) # remove stop word\n",
        "  out = re.sub(r\"\\s+\", ' ', out)\n",
        "  out = re.sub(' +', ' ',out) # remove extra space\n",
        "  return out.strip()"
      ]
    },
    {
      "cell_type": "code",
      "source": [
        "# count of each type \n",
        "\n",
        "data['polarity'].value_counts()\n"
      ],
      "metadata": {
        "colab": {
          "base_uri": "https://localhost:8080/"
        },
        "id": "1AD0fqRzv2QP",
        "outputId": "2fb8a6e2-3d82-447e-b95a-67f934de57f4"
      },
      "execution_count": null,
      "outputs": [
        {
          "output_type": "execute_result",
          "data": {
            "text/plain": [
              "Negative     7946\n",
              "Neutre       7267\n",
              "Positive     7151\n",
              "sentiment       1\n",
              "Name: polarity, dtype: int64"
            ]
          },
          "metadata": {},
          "execution_count": 5
        }
      ]
    },
    {
      "cell_type": "code",
      "source": [
        "#befor cleaning\n",
        "data['text'][433]"
      ],
      "metadata": {
        "colab": {
          "base_uri": "https://localhost:8080/",
          "height": 53
        },
        "id": "V0-AcT7HwK0p",
        "outputId": "19acc877-b9e6-41f9-91cf-9ae275c21be1"
      },
      "execution_count": null,
      "outputs": [
        {
          "output_type": "execute_result",
          "data": {
            "text/plain": [
              "'مين جاي مؤتمر بكره؟ \": مؤتمر الدفاع عن الدستور يستعرض المؤتمر آخر مستجدات وتطورات عملية وضع الدستور وتبعاتها \"\\t'"
            ],
            "application/vnd.google.colaboratory.intrinsic+json": {
              "type": "string"
            }
          },
          "metadata": {},
          "execution_count": 25
        }
      ]
    },
    {
      "cell_type": "code",
      "source": [
        "# The cleaning function applied in all texts\n",
        "data['text'] = data['text'].apply(process_review)"
      ],
      "metadata": {
        "id": "E8jTmQE33lPk"
      },
      "execution_count": null,
      "outputs": []
    },
    {
      "cell_type": "code",
      "source": [
        "#after cleaning\n",
        "data['text'][433]"
      ],
      "metadata": {
        "colab": {
          "base_uri": "https://localhost:8080/",
          "height": 35
        },
        "id": "6UuQrfiY4-M8",
        "outputId": "8eb0000c-9d07-435d-a171-4f8d4291dbe5"
      },
      "execution_count": null,
      "outputs": [
        {
          "output_type": "execute_result",
          "data": {
            "text/plain": [
              "'مين جاي مؤتمر بكره مؤتمر الدفاع الدستور يستعرض المؤتمر آخر مستجدات وتطورات عملية وضع الدستور وتبعاتها'"
            ],
            "application/vnd.google.colaboratory.intrinsic+json": {
              "type": "string"
            }
          },
          "metadata": {},
          "execution_count": 27
        }
      ]
    },
    {
      "cell_type": "code",
      "execution_count": null,
      "metadata": {
        "colab": {
          "base_uri": "https://localhost:8080/"
        },
        "id": "T7MjMLLn6gtK",
        "outputId": "a63545d1-f9c9-43dd-eb0f-4121921ec50f"
      },
      "outputs": [
        {
          "output_type": "stream",
          "name": "stdout",
          "text": [
            "22366\n"
          ]
        }
      ],
      "source": [
        "    \n",
        "#shuffle the data\n",
        "\n",
        "print(len(data['text']))"
      ]
    },
    {
      "cell_type": "markdown",
      "metadata": {
        "id": "gbqWg60hSZ7y"
      },
      "source": [
        "Look at the data"
      ]
    },
    {
      "cell_type": "code",
      "execution_count": null,
      "metadata": {
        "colab": {
          "base_uri": "https://localhost:8080/"
        },
        "id": "7U47oLKpD8aE",
        "outputId": "1544859e-0d5c-4584-84fe-8eda6c2d9e88"
      },
      "outputs": [
        {
          "output_type": "stream",
          "name": "stdout",
          "text": [
            "                                                    text  polarity\n",
            "0      استقالة رئيس المحكمةالدستورية ننتظر استقالة رئ...    Neutre\n",
            "1      أهنئ الدكتور أحمد جمال الدين القيادي بحزب مصر ...  Positive\n",
            "2      البرادعي يستقوى بامريكا مرةاخرى يرسل عصام العر...  Negative\n",
            "3      الحريةوالعدالة شاهد ليلةالاتحادية فيلم استقصائ...    Neutre\n",
            "4      الوالدة اقولها بخاطري حشيشة تضحك اقولها ملل ال...    Neutre\n",
            "...                                                  ...       ...\n",
            "22361  ربي اغفر لوالدي لأحبتي للمؤمنين المؤمنات المسل...  Positive\n",
            "22362                                   ربي يسعدنا وياكم  Positive\n",
            "22363  يتحدثون اخلاق حسين ونجوم فرقهم نهاياتهم الرياض...  Positive\n",
            "22364  صباحكم احتفالية تكتمل وصاحب الاحتفاليه ماكمل ا...  Positive\n",
            "22365               قلت سابقا المعيوف عندما تحتاجه يخذلك  Positive\n",
            "\n",
            "[22366 rows x 2 columns]\n",
            "                                                    text  polarity\n",
            "0      استقالة رئيس المحكمةالدستورية ننتظر استقالة رئ...    Neutre\n",
            "1      أهنئ الدكتور أحمد جمال الدين القيادي بحزب مصر ...  Positive\n",
            "2      البرادعي يستقوى بامريكا مرةاخرى يرسل عصام العر...  Negative\n",
            "3      الحريةوالعدالة شاهد ليلةالاتحادية فيلم استقصائ...    Neutre\n",
            "4      الوالدة اقولها بخاطري حشيشة تضحك اقولها ملل ال...    Neutre\n",
            "...                                                  ...       ...\n",
            "22361  ربي اغفر لوالدي لأحبتي للمؤمنين المؤمنات المسل...  Positive\n",
            "22362                                   ربي يسعدنا وياكم  Positive\n",
            "22363  يتحدثون اخلاق حسين ونجوم فرقهم نهاياتهم الرياض...  Positive\n",
            "22364  صباحكم احتفالية تكتمل وصاحب الاحتفاليه ماكمل ا...  Positive\n",
            "22365               قلت سابقا المعيوف عندما تحتاجه يخذلك  Positive\n",
            "\n",
            "[22366 rows x 2 columns]\n",
            "                                                    text  polarity\n",
            "0      استقالة رئيس المحكمةالدستورية ننتظر استقالة رئ...    Neutre\n",
            "1      أهنئ الدكتور أحمد جمال الدين القيادي بحزب مصر ...  Positive\n",
            "2      البرادعي يستقوى بامريكا مرةاخرى يرسل عصام العر...  Negative\n",
            "3      الحريةوالعدالة شاهد ليلةالاتحادية فيلم استقصائ...    Neutre\n",
            "4      الوالدة اقولها بخاطري حشيشة تضحك اقولها ملل ال...    Neutre\n",
            "...                                                  ...       ...\n",
            "22361  ربي اغفر لوالدي لأحبتي للمؤمنين المؤمنات المسل...  Positive\n",
            "22362                                   ربي يسعدنا وياكم  Positive\n",
            "22363  يتحدثون اخلاق حسين ونجوم فرقهم نهاياتهم الرياض...  Positive\n",
            "22364  صباحكم احتفالية تكتمل وصاحب الاحتفاليه ماكمل ا...  Positive\n",
            "22365               قلت سابقا المعيوف عندما تحتاجه يخذلك  Positive\n",
            "\n",
            "[22366 rows x 2 columns]\n",
            "                                                    text  polarity\n",
            "0      استقالة رئيس المحكمةالدستورية ننتظر استقالة رئ...    Neutre\n",
            "1      أهنئ الدكتور أحمد جمال الدين القيادي بحزب مصر ...  Positive\n",
            "2      البرادعي يستقوى بامريكا مرةاخرى يرسل عصام العر...  Negative\n",
            "3      الحريةوالعدالة شاهد ليلةالاتحادية فيلم استقصائ...    Neutre\n",
            "4      الوالدة اقولها بخاطري حشيشة تضحك اقولها ملل ال...    Neutre\n",
            "...                                                  ...       ...\n",
            "22361  ربي اغفر لوالدي لأحبتي للمؤمنين المؤمنات المسل...  Positive\n",
            "22362                                   ربي يسعدنا وياكم  Positive\n",
            "22363  يتحدثون اخلاق حسين ونجوم فرقهم نهاياتهم الرياض...  Positive\n",
            "22364  صباحكم احتفالية تكتمل وصاحب الاحتفاليه ماكمل ا...  Positive\n",
            "22365               قلت سابقا المعيوف عندما تحتاجه يخذلك  Positive\n",
            "\n",
            "[22366 rows x 2 columns]\n",
            "                                                    text  polarity\n",
            "0      استقالة رئيس المحكمةالدستورية ننتظر استقالة رئ...    Neutre\n",
            "1      أهنئ الدكتور أحمد جمال الدين القيادي بحزب مصر ...  Positive\n",
            "2      البرادعي يستقوى بامريكا مرةاخرى يرسل عصام العر...  Negative\n",
            "3      الحريةوالعدالة شاهد ليلةالاتحادية فيلم استقصائ...    Neutre\n",
            "4      الوالدة اقولها بخاطري حشيشة تضحك اقولها ملل ال...    Neutre\n",
            "...                                                  ...       ...\n",
            "22361  ربي اغفر لوالدي لأحبتي للمؤمنين المؤمنات المسل...  Positive\n",
            "22362                                   ربي يسعدنا وياكم  Positive\n",
            "22363  يتحدثون اخلاق حسين ونجوم فرقهم نهاياتهم الرياض...  Positive\n",
            "22364  صباحكم احتفالية تكتمل وصاحب الاحتفاليه ماكمل ا...  Positive\n",
            "22365               قلت سابقا المعيوف عندما تحتاجه يخذلك  Positive\n",
            "\n",
            "[22366 rows x 2 columns]\n",
            "                                                    text  polarity\n",
            "0      استقالة رئيس المحكمةالدستورية ننتظر استقالة رئ...    Neutre\n",
            "1      أهنئ الدكتور أحمد جمال الدين القيادي بحزب مصر ...  Positive\n",
            "2      البرادعي يستقوى بامريكا مرةاخرى يرسل عصام العر...  Negative\n",
            "3      الحريةوالعدالة شاهد ليلةالاتحادية فيلم استقصائ...    Neutre\n",
            "4      الوالدة اقولها بخاطري حشيشة تضحك اقولها ملل ال...    Neutre\n",
            "...                                                  ...       ...\n",
            "22361  ربي اغفر لوالدي لأحبتي للمؤمنين المؤمنات المسل...  Positive\n",
            "22362                                   ربي يسعدنا وياكم  Positive\n",
            "22363  يتحدثون اخلاق حسين ونجوم فرقهم نهاياتهم الرياض...  Positive\n",
            "22364  صباحكم احتفالية تكتمل وصاحب الاحتفاليه ماكمل ا...  Positive\n",
            "22365               قلت سابقا المعيوف عندما تحتاجه يخذلك  Positive\n",
            "\n",
            "[22366 rows x 2 columns]\n",
            "                                                    text  polarity\n",
            "0      استقالة رئيس المحكمةالدستورية ننتظر استقالة رئ...    Neutre\n",
            "1      أهنئ الدكتور أحمد جمال الدين القيادي بحزب مصر ...  Positive\n",
            "2      البرادعي يستقوى بامريكا مرةاخرى يرسل عصام العر...  Negative\n",
            "3      الحريةوالعدالة شاهد ليلةالاتحادية فيلم استقصائ...    Neutre\n",
            "4      الوالدة اقولها بخاطري حشيشة تضحك اقولها ملل ال...    Neutre\n",
            "...                                                  ...       ...\n",
            "22361  ربي اغفر لوالدي لأحبتي للمؤمنين المؤمنات المسل...  Positive\n",
            "22362                                   ربي يسعدنا وياكم  Positive\n",
            "22363  يتحدثون اخلاق حسين ونجوم فرقهم نهاياتهم الرياض...  Positive\n",
            "22364  صباحكم احتفالية تكتمل وصاحب الاحتفاليه ماكمل ا...  Positive\n",
            "22365               قلت سابقا المعيوف عندما تحتاجه يخذلك  Positive\n",
            "\n",
            "[22366 rows x 2 columns]\n",
            "                                                    text  polarity\n",
            "0      استقالة رئيس المحكمةالدستورية ننتظر استقالة رئ...    Neutre\n",
            "1      أهنئ الدكتور أحمد جمال الدين القيادي بحزب مصر ...  Positive\n",
            "2      البرادعي يستقوى بامريكا مرةاخرى يرسل عصام العر...  Negative\n",
            "3      الحريةوالعدالة شاهد ليلةالاتحادية فيلم استقصائ...    Neutre\n",
            "4      الوالدة اقولها بخاطري حشيشة تضحك اقولها ملل ال...    Neutre\n",
            "...                                                  ...       ...\n",
            "22361  ربي اغفر لوالدي لأحبتي للمؤمنين المؤمنات المسل...  Positive\n",
            "22362                                   ربي يسعدنا وياكم  Positive\n",
            "22363  يتحدثون اخلاق حسين ونجوم فرقهم نهاياتهم الرياض...  Positive\n",
            "22364  صباحكم احتفالية تكتمل وصاحب الاحتفاليه ماكمل ا...  Positive\n",
            "22365               قلت سابقا المعيوف عندما تحتاجه يخذلك  Positive\n",
            "\n",
            "[22366 rows x 2 columns]\n",
            "                                                    text  polarity\n",
            "0      استقالة رئيس المحكمةالدستورية ننتظر استقالة رئ...    Neutre\n",
            "1      أهنئ الدكتور أحمد جمال الدين القيادي بحزب مصر ...  Positive\n",
            "2      البرادعي يستقوى بامريكا مرةاخرى يرسل عصام العر...  Negative\n",
            "3      الحريةوالعدالة شاهد ليلةالاتحادية فيلم استقصائ...    Neutre\n",
            "4      الوالدة اقولها بخاطري حشيشة تضحك اقولها ملل ال...    Neutre\n",
            "...                                                  ...       ...\n",
            "22361  ربي اغفر لوالدي لأحبتي للمؤمنين المؤمنات المسل...  Positive\n",
            "22362                                   ربي يسعدنا وياكم  Positive\n",
            "22363  يتحدثون اخلاق حسين ونجوم فرقهم نهاياتهم الرياض...  Positive\n",
            "22364  صباحكم احتفالية تكتمل وصاحب الاحتفاليه ماكمل ا...  Positive\n",
            "22365               قلت سابقا المعيوف عندما تحتاجه يخذلك  Positive\n",
            "\n",
            "[22366 rows x 2 columns]\n",
            "                                                    text  polarity\n",
            "0      استقالة رئيس المحكمةالدستورية ننتظر استقالة رئ...    Neutre\n",
            "1      أهنئ الدكتور أحمد جمال الدين القيادي بحزب مصر ...  Positive\n",
            "2      البرادعي يستقوى بامريكا مرةاخرى يرسل عصام العر...  Negative\n",
            "3      الحريةوالعدالة شاهد ليلةالاتحادية فيلم استقصائ...    Neutre\n",
            "4      الوالدة اقولها بخاطري حشيشة تضحك اقولها ملل ال...    Neutre\n",
            "...                                                  ...       ...\n",
            "22361  ربي اغفر لوالدي لأحبتي للمؤمنين المؤمنات المسل...  Positive\n",
            "22362                                   ربي يسعدنا وياكم  Positive\n",
            "22363  يتحدثون اخلاق حسين ونجوم فرقهم نهاياتهم الرياض...  Positive\n",
            "22364  صباحكم احتفالية تكتمل وصاحب الاحتفاليه ماكمل ا...  Positive\n",
            "22365               قلت سابقا المعيوف عندما تحتاجه يخذلك  Positive\n",
            "\n",
            "[22366 rows x 2 columns]\n"
          ]
        }
      ],
      "source": [
        "for i in range(0, 10):\n",
        "  print(data)"
      ]
    },
    {
      "cell_type": "code",
      "execution_count": null,
      "metadata": {
        "id": "XfN0narotLU8"
      },
      "outputs": [],
      "source": [
        "#save the dataset\n",
        "text=data['text']\n",
        "sentiment=data['polarity']\n",
        "with open('data.txt', 'w') as f:\n",
        "  for i in range(len(data['text'])):\n",
        "    f.write(f\"{text[i]}, {sentiment[i]} '\\n'\")"
      ]
    },
    {
      "cell_type": "markdown",
      "metadata": {
        "id": "syg_fvtnC1AK"
      },
      "source": [
        "## Create Sequences\n",
        "Create sequences by using the most repeated 500 words"
      ]
    },
    {
      "cell_type": "code",
      "execution_count": null,
      "metadata": {
        "id": "EZYJqgvC49Mi"
      },
      "outputs": [],
      "source": [
        "tknzr = Tokenizer(lower=True, split=\" \")\n",
        "tknzr.fit_on_texts(data['text']) #maj le vocabulaire interne de la de texte \n",
        "\n",
        "#making sequences:\n",
        "X = tknzr.texts_to_sequences(data['text']) #convertir les mots en entier (sequence de nbr)\n",
        "X = pad_sequences(X, padding='post', value=0) #assurer que tous les entite en la meme longeur"
      ]
    },
    {
      "cell_type": "markdown",
      "metadata": {
        "id": "Xq0Ber9ICcWb"
      },
      "source": [
        "## Create Numpy Arrays"
      ]
    },
    {
      "cell_type": "code",
      "execution_count": null,
      "metadata": {
        "colab": {
          "base_uri": "https://localhost:8080/"
        },
        "id": "8RbCFXQRBolT",
        "outputId": "9795cfa3-8d79-4e8d-9fcf-62f3bdf2fac0"
      },
      "outputs": [
        {
          "output_type": "stream",
          "name": "stdout",
          "text": [
            "(22366, 503)\n"
          ]
        }
      ],
      "source": [
        "X = np.array(X)\n",
        "y = np.array(data['polarity'])\n",
        "\n",
        "print(X.shape) #return (nb ligne,nb colone)"
      ]
    },
    {
      "cell_type": "markdown",
      "metadata": {
        "id": "5uHdRK4cCrGJ"
      },
      "source": [
        "## Create the model"
      ]
    },
    {
      "cell_type": "code",
      "execution_count": null,
      "metadata": {
        "id": "p3u3OxEcBfJ2"
      },
      "outputs": [],
      "source": [
        "model = Sequential() #creer un sequence \n",
        "model.add(Embedding(len(tknzr.word_index), 32))\n",
        "model.add(Bidirectional(GRU(units = 32)))\n",
        "model.add(Dense(32, activation = 'tanh'))\n",
        "model.add(Dropout(0.3))\n",
        "model.add(Dense(1, activation = 'sigmoid'))\n",
        "model.compile(optimizer = 'adam', loss = 'binary_crossentropy', metrics = ['accuracy'])"
      ]
    },
    {
      "cell_type": "code",
      "execution_count": null,
      "metadata": {
        "colab": {
          "base_uri": "https://localhost:8080/"
        },
        "id": "9DMLy0-x-WR5",
        "outputId": "7b736609-d68f-4727-c6b8-21f3ea132858"
      },
      "outputs": [
        {
          "output_type": "stream",
          "name": "stdout",
          "text": [
            "Model: \"sequential\"\n",
            "_________________________________________________________________\n",
            " Layer (type)                Output Shape              Param #   \n",
            "=================================================================\n",
            " embedding (Embedding)       (None, None, 32)          1926528   \n",
            "                                                                 \n",
            " bidirectional (Bidirectiona  (None, 64)               12672     \n",
            " l)                                                              \n",
            "                                                                 \n",
            " dense (Dense)               (None, 32)                2080      \n",
            "                                                                 \n",
            " dropout (Dropout)           (None, 32)                0         \n",
            "                                                                 \n",
            " dense_1 (Dense)             (None, 1)                 33        \n",
            "                                                                 \n",
            "=================================================================\n",
            "Total params: 1,941,313\n",
            "Trainable params: 1,941,313\n",
            "Non-trainable params: 0\n",
            "_________________________________________________________________\n"
          ]
        }
      ],
      "source": [
        "model.summary()"
      ]
    },
    {
      "cell_type": "code",
      "source": [
        "# Split data into training and testing\n",
        "X_train, X_test, y_train, y_test = train_test_split(X,y, test_size =0.2, random_state=42)\n"
      ],
      "metadata": {
        "id": "X1Ow08zkgkcD"
      },
      "execution_count": null,
      "outputs": []
    },
    {
      "cell_type": "code",
      "source": [
        "data.info()\n"
      ],
      "metadata": {
        "colab": {
          "base_uri": "https://localhost:8080/"
        },
        "id": "ySjgIc_S7exw",
        "outputId": "4900940f-f064-47c6-e1b6-cabc28fa13f4"
      },
      "execution_count": null,
      "outputs": [
        {
          "output_type": "stream",
          "name": "stdout",
          "text": [
            "<class 'pandas.core.frame.DataFrame'>\n",
            "RangeIndex: 22366 entries, 0 to 22365\n",
            "Data columns (total 2 columns):\n",
            " #   Column    Non-Null Count  Dtype \n",
            "---  ------    --------------  ----- \n",
            " 0   text      22366 non-null  object\n",
            " 1   polarity  22365 non-null  object\n",
            "dtypes: object(2)\n",
            "memory usage: 349.6+ KB\n"
          ]
        }
      ]
    },
    {
      "cell_type": "code",
      "source": [
        "data.dtypes"
      ],
      "metadata": {
        "colab": {
          "base_uri": "https://localhost:8080/"
        },
        "id": "wphaOkfg9fGA",
        "outputId": "386ac0b5-8577-4858-9f39-4d38cb87a541"
      },
      "execution_count": null,
      "outputs": [
        {
          "output_type": "execute_result",
          "data": {
            "text/plain": [
              "text        object\n",
              "polarity    object\n",
              "dtype: object"
            ]
          },
          "metadata": {},
          "execution_count": 37
        }
      ]
    },
    {
      "cell_type": "code",
      "source": [
        "#\n",
        "from sklearn.preprocessing import LabelEncoder\n",
        "lb=LabelEncoder()\n",
        "y=lb.fit_transform(y)"
      ],
      "metadata": {
        "id": "LDQKzkwoKnhp"
      },
      "execution_count": null,
      "outputs": []
    },
    {
      "cell_type": "markdown",
      "metadata": {
        "id": "5-7U36aDCtQu"
      },
      "source": [
        "## Train the model"
      ]
    },
    {
      "cell_type": "code",
      "execution_count": null,
      "metadata": {
        "colab": {
          "base_uri": "https://localhost:8080/",
          "height": 1000
        },
        "id": "52Ew-5ZyC3Nf",
        "outputId": "c73767dd-7ec4-48dc-9ef5-e46359b66fa2"
      },
      "outputs": [
        {
          "output_type": "stream",
          "name": "stdout",
          "text": [
            "Epoch 1/7\n",
            "158/158 [==============================] - ETA: 0s - loss: -0.4295 - accuracy: 0.5387"
          ]
        },
        {
          "output_type": "error",
          "ename": "InvalidArgumentError",
          "evalue": "ignored",
          "traceback": [
            "\u001b[0;31m---------------------------------------------------------------------------\u001b[0m",
            "\u001b[0;31mInvalidArgumentError\u001b[0m                      Traceback (most recent call last)",
            "\u001b[0;32m<ipython-input-40-4f592461b5d3>\u001b[0m in \u001b[0;36m<module>\u001b[0;34m()\u001b[0m\n\u001b[0;32m----> 1\u001b[0;31m \u001b[0mmodel\u001b[0m\u001b[0;34m.\u001b[0m\u001b[0mfit\u001b[0m\u001b[0;34m(\u001b[0m\u001b[0mX\u001b[0m\u001b[0;34m,\u001b[0m \u001b[0my\u001b[0m\u001b[0;34m,\u001b[0m \u001b[0mvalidation_split\u001b[0m \u001b[0;34m=\u001b[0m \u001b[0;36m0.1\u001b[0m\u001b[0;34m,\u001b[0m \u001b[0mepochs\u001b[0m \u001b[0;34m=\u001b[0m \u001b[0;36m7\u001b[0m\u001b[0;34m,\u001b[0m \u001b[0mbatch_size\u001b[0m\u001b[0;34m=\u001b[0m \u001b[0;36m128\u001b[0m\u001b[0;34m,\u001b[0m \u001b[0mshuffle\u001b[0m \u001b[0;34m=\u001b[0m \u001b[0;32mTrue\u001b[0m\u001b[0;34m)\u001b[0m\u001b[0;34m\u001b[0m\u001b[0;34m\u001b[0m\u001b[0m\n\u001b[0m",
            "\u001b[0;32m/usr/local/lib/python3.7/dist-packages/keras/utils/traceback_utils.py\u001b[0m in \u001b[0;36merror_handler\u001b[0;34m(*args, **kwargs)\u001b[0m\n\u001b[1;32m     65\u001b[0m     \u001b[0;32mexcept\u001b[0m \u001b[0mException\u001b[0m \u001b[0;32mas\u001b[0m \u001b[0me\u001b[0m\u001b[0;34m:\u001b[0m  \u001b[0;31m# pylint: disable=broad-except\u001b[0m\u001b[0;34m\u001b[0m\u001b[0;34m\u001b[0m\u001b[0m\n\u001b[1;32m     66\u001b[0m       \u001b[0mfiltered_tb\u001b[0m \u001b[0;34m=\u001b[0m \u001b[0m_process_traceback_frames\u001b[0m\u001b[0;34m(\u001b[0m\u001b[0me\u001b[0m\u001b[0;34m.\u001b[0m\u001b[0m__traceback__\u001b[0m\u001b[0;34m)\u001b[0m\u001b[0;34m\u001b[0m\u001b[0;34m\u001b[0m\u001b[0m\n\u001b[0;32m---> 67\u001b[0;31m       \u001b[0;32mraise\u001b[0m \u001b[0me\u001b[0m\u001b[0;34m.\u001b[0m\u001b[0mwith_traceback\u001b[0m\u001b[0;34m(\u001b[0m\u001b[0mfiltered_tb\u001b[0m\u001b[0;34m)\u001b[0m \u001b[0;32mfrom\u001b[0m \u001b[0;32mNone\u001b[0m\u001b[0;34m\u001b[0m\u001b[0;34m\u001b[0m\u001b[0m\n\u001b[0m\u001b[1;32m     68\u001b[0m     \u001b[0;32mfinally\u001b[0m\u001b[0;34m:\u001b[0m\u001b[0;34m\u001b[0m\u001b[0;34m\u001b[0m\u001b[0m\n\u001b[1;32m     69\u001b[0m       \u001b[0;32mdel\u001b[0m \u001b[0mfiltered_tb\u001b[0m\u001b[0;34m\u001b[0m\u001b[0;34m\u001b[0m\u001b[0m\n",
            "\u001b[0;32m/usr/local/lib/python3.7/dist-packages/tensorflow/python/eager/execute.py\u001b[0m in \u001b[0;36mquick_execute\u001b[0;34m(op_name, num_outputs, inputs, attrs, ctx, name)\u001b[0m\n\u001b[1;32m     53\u001b[0m     \u001b[0mctx\u001b[0m\u001b[0;34m.\u001b[0m\u001b[0mensure_initialized\u001b[0m\u001b[0;34m(\u001b[0m\u001b[0;34m)\u001b[0m\u001b[0;34m\u001b[0m\u001b[0;34m\u001b[0m\u001b[0m\n\u001b[1;32m     54\u001b[0m     tensors = pywrap_tfe.TFE_Py_Execute(ctx._handle, device_name, op_name,\n\u001b[0;32m---> 55\u001b[0;31m                                         inputs, attrs, num_outputs)\n\u001b[0m\u001b[1;32m     56\u001b[0m   \u001b[0;32mexcept\u001b[0m \u001b[0mcore\u001b[0m\u001b[0;34m.\u001b[0m\u001b[0m_NotOkStatusException\u001b[0m \u001b[0;32mas\u001b[0m \u001b[0me\u001b[0m\u001b[0;34m:\u001b[0m\u001b[0;34m\u001b[0m\u001b[0;34m\u001b[0m\u001b[0m\n\u001b[1;32m     57\u001b[0m     \u001b[0;32mif\u001b[0m \u001b[0mname\u001b[0m \u001b[0;32mis\u001b[0m \u001b[0;32mnot\u001b[0m \u001b[0;32mNone\u001b[0m\u001b[0;34m:\u001b[0m\u001b[0;34m\u001b[0m\u001b[0;34m\u001b[0m\u001b[0m\n",
            "\u001b[0;31mInvalidArgumentError\u001b[0m: Graph execution error:\n\nDetected at node 'sequential/embedding/embedding_lookup' defined at (most recent call last):\n    File \"/usr/lib/python3.7/runpy.py\", line 193, in _run_module_as_main\n      \"__main__\", mod_spec)\n    File \"/usr/lib/python3.7/runpy.py\", line 85, in _run_code\n      exec(code, run_globals)\n    File \"/usr/local/lib/python3.7/dist-packages/ipykernel_launcher.py\", line 16, in <module>\n      app.launch_new_instance()\n    File \"/usr/local/lib/python3.7/dist-packages/traitlets/config/application.py\", line 846, in launch_instance\n      app.start()\n    File \"/usr/local/lib/python3.7/dist-packages/ipykernel/kernelapp.py\", line 499, in start\n      self.io_loop.start()\n    File \"/usr/local/lib/python3.7/dist-packages/tornado/platform/asyncio.py\", line 132, in start\n      self.asyncio_loop.run_forever()\n    File \"/usr/lib/python3.7/asyncio/base_events.py\", line 541, in run_forever\n      self._run_once()\n    File \"/usr/lib/python3.7/asyncio/base_events.py\", line 1786, in _run_once\n      handle._run()\n    File \"/usr/lib/python3.7/asyncio/events.py\", line 88, in _run\n      self._context.run(self._callback, *self._args)\n    File \"/usr/local/lib/python3.7/dist-packages/tornado/platform/asyncio.py\", line 122, in _handle_events\n      handler_func(fileobj, events)\n    File \"/usr/local/lib/python3.7/dist-packages/tornado/stack_context.py\", line 300, in null_wrapper\n      return fn(*args, **kwargs)\n    File \"/usr/local/lib/python3.7/dist-packages/zmq/eventloop/zmqstream.py\", line 452, in _handle_events\n      self._handle_recv()\n    File \"/usr/local/lib/python3.7/dist-packages/zmq/eventloop/zmqstream.py\", line 481, in _handle_recv\n      self._run_callback(callback, msg)\n    File \"/usr/local/lib/python3.7/dist-packages/zmq/eventloop/zmqstream.py\", line 431, in _run_callback\n      callback(*args, **kwargs)\n    File \"/usr/local/lib/python3.7/dist-packages/tornado/stack_context.py\", line 300, in null_wrapper\n      return fn(*args, **kwargs)\n    File \"/usr/local/lib/python3.7/dist-packages/ipykernel/kernelbase.py\", line 283, in dispatcher\n      return self.dispatch_shell(stream, msg)\n    File \"/usr/local/lib/python3.7/dist-packages/ipykernel/kernelbase.py\", line 233, in dispatch_shell\n      handler(stream, idents, msg)\n    File \"/usr/local/lib/python3.7/dist-packages/ipykernel/kernelbase.py\", line 399, in execute_request\n      user_expressions, allow_stdin)\n    File \"/usr/local/lib/python3.7/dist-packages/ipykernel/ipkernel.py\", line 208, in do_execute\n      res = shell.run_cell(code, store_history=store_history, silent=silent)\n    File \"/usr/local/lib/python3.7/dist-packages/ipykernel/zmqshell.py\", line 537, in run_cell\n      return super(ZMQInteractiveShell, self).run_cell(*args, **kwargs)\n    File \"/usr/local/lib/python3.7/dist-packages/IPython/core/interactiveshell.py\", line 2718, in run_cell\n      interactivity=interactivity, compiler=compiler, result=result)\n    File \"/usr/local/lib/python3.7/dist-packages/IPython/core/interactiveshell.py\", line 2828, in run_ast_nodes\n      if self.run_code(code, result):\n    File \"/usr/local/lib/python3.7/dist-packages/IPython/core/interactiveshell.py\", line 2882, in run_code\n      exec(code_obj, self.user_global_ns, self.user_ns)\n    File \"<ipython-input-39-9af9659b1dd9>\", line 1, in <module>\n      model.fit(X, y, validation_split = 0.33, epochs = 7, batch_size= 128, shuffle = True)\n    File \"/usr/local/lib/python3.7/dist-packages/keras/utils/traceback_utils.py\", line 64, in error_handler\n      return fn(*args, **kwargs)\n    File \"/usr/local/lib/python3.7/dist-packages/keras/engine/training.py\", line 1431, in fit\n      _use_cached_eval_dataset=True)\n    File \"/usr/local/lib/python3.7/dist-packages/keras/utils/traceback_utils.py\", line 64, in error_handler\n      return fn(*args, **kwargs)\n    File \"/usr/local/lib/python3.7/dist-packages/keras/engine/training.py\", line 1716, in evaluate\n      tmp_logs = self.test_function(iterator)\n    File \"/usr/local/lib/python3.7/dist-packages/keras/engine/training.py\", line 1525, in test_function\n      return step_function(self, iterator)\n    File \"/usr/local/lib/python3.7/dist-packages/keras/engine/training.py\", line 1514, in step_function\n      outputs = model.distribute_strategy.run(run_step, args=(data,))\n    File \"/usr/local/lib/python3.7/dist-packages/keras/engine/training.py\", line 1507, in run_step\n      outputs = model.test_step(data)\n    File \"/usr/local/lib/python3.7/dist-packages/keras/engine/training.py\", line 1471, in test_step\n      y_pred = self(x, training=False)\n    File \"/usr/local/lib/python3.7/dist-packages/keras/utils/traceback_utils.py\", line 64, in error_handler\n      return fn(*args, **kwargs)\n    File \"/usr/local/lib/python3.7/dist-packages/keras/engine/base_layer.py\", line 1096, in __call__\n      outputs = call_fn(inputs, *args, **kwargs)\n    File \"/usr/local/lib/python3.7/dist-packages/keras/utils/traceback_utils.py\", line 92, in error_handler\n      return fn(*args, **kwargs)\n    File \"/usr/local/lib/python3.7/dist-packages/keras/engine/sequential.py\", line 374, in call\n      return super(Sequential, self).call(inputs, training=training, mask=mask)\n    File \"/usr/local/lib/python3.7/dist-packages/keras/engine/functional.py\", line 452, in call\n      inputs, training=training, mask=mask)\n    File \"/usr/local/lib/python3.7/dist-packages/keras/engine/functional.py\", line 589, in _run_internal_graph\n      outputs = node.layer(*args, **kwargs)\n    File \"/usr/local/lib/python3.7/dist-packages/keras/utils/traceback_utils.py\", line 64, in error_handler\n      return fn(*args, **kwargs)\n    File \"/usr/local/lib/python3.7/dist-packages/keras/engine/base_layer.py\", line 1096, in __call__\n      outputs = call_fn(inputs, *args, **kwargs)\n    File \"/usr/local/lib/python3.7/dist-packages/keras/utils/traceback_utils.py\", line 92, in error_handler\n      return fn(*args, **kwargs)\n    File \"/usr/local/lib/python3.7/dist-packages/keras/layers/embeddings.py\", line 197, in call\n      out = tf.nn.embedding_lookup(self.embeddings, inputs)\nNode: 'sequential/embedding/embedding_lookup'\nindices[84,4] = 60204 is not in [0, 60204)\n\t [[{{node sequential/embedding/embedding_lookup}}]] [Op:__inference_test_function_7190]"
          ]
        }
      ],
      "source": [
        "model.fit(X, y, validation_split = 0.33, epochs = 7, batch_size= 128, shuffle = True)"
      ]
    },
    {
      "cell_type": "markdown",
      "metadata": {
        "id": "jwZQrxhdDV4r"
      },
      "source": [
        "## Tests"
      ]
    },
    {
      "cell_type": "code",
      "execution_count": null,
      "metadata": {
        "id": "-Q-Texz3DQsH"
      },
      "outputs": [],
      "source": [
        "class_names = ['سلبي' , 'إيجابي']\n",
        "def classify(sentence):\n",
        "  sentence = process_review(sentence)\n",
        "  sequence = [tknzr.word_index[word] for word in sentence.split(' ')]\n",
        "  sequence = pad_sequences([sequence], maxlen = X.shape[1], padding='post', value=0)\n",
        "  #print(sequence.dtype)\n",
        "  #print(sequence)\n",
        "  pred = model.predict(sequence)[0][0]\n",
        "  print(class_names[np.round(pred).astype('int')], pred)\n",
        "  "
      ]
    },
    {
      "cell_type": "code",
      "execution_count": null,
      "metadata": {
        "colab": {
          "base_uri": "https://localhost:8080/"
        },
        "id": "GMgcfGkZRLF2",
        "outputId": "c2261660-a538-49dd-f272-777fb6849553"
      },
      "outputs": [
        {
          "output_type": "stream",
          "name": "stdout",
          "text": [
            "إيجابي 1.0\n"
          ]
        }
      ],
      "source": [
        "classify(\" و أفكاره معروفة بوسطيتها واعتدالها و قربها من العقل والمنطق \")"
      ]
    },
    {
      "cell_type": "code",
      "source": [
        "classify(\"وحتى بالعدوان كانوا شركاء مجزرة مروحين\")"
      ],
      "metadata": {
        "id": "dVcNZQ-v7frH",
        "outputId": "8b99d0d1-19cc-4d66-a20b-d8b1b8523899",
        "colab": {
          "base_uri": "https://localhost:8080/"
        }
      },
      "execution_count": null,
      "outputs": [
        {
          "output_type": "stream",
          "name": "stdout",
          "text": [
            "سلبي 1.3441268e-10\n"
          ]
        }
      ]
    },
    {
      "cell_type": "code",
      "execution_count": null,
      "metadata": {
        "colab": {
          "base_uri": "https://localhost:8080/"
        },
        "id": "d-A1oIYFdopV",
        "outputId": "f7fddcc0-8f61-4847-f5d9-347bcf965444"
      },
      "outputs": [
        {
          "output_type": "stream",
          "name": "stdout",
          "text": [
            "إيجابي 1.0\n"
          ]
        }
      ],
      "source": [
        "classify(\" بتمنى كون صديقة بيناتكن احلى منتدى\")"
      ]
    },
    {
      "cell_type": "code",
      "execution_count": null,
      "metadata": {
        "colab": {
          "base_uri": "https://localhost:8080/"
        },
        "id": "9uQNyxSodr0X",
        "outputId": "75b63dda-9b01-4768-f968-d21957a888bf"
      },
      "outputs": [
        {
          "output_type": "stream",
          "name": "stdout",
          "text": [
            "إيجابي 1.0\n"
          ]
        }
      ],
      "source": [
        "classify(\"سيء\")"
      ]
    },
    {
      "cell_type": "code",
      "execution_count": null,
      "metadata": {
        "colab": {
          "base_uri": "https://localhost:8080/"
        },
        "id": "XKR_5ZN3dtSJ",
        "outputId": "ea0384f1-e0dc-4493-fd2a-25b364ef54b9"
      },
      "outputs": [
        {
          "output_type": "stream",
          "name": "stdout",
          "text": [
            "سلبي 1.0990065e-14\n"
          ]
        }
      ],
      "source": [
        "classify(\"كمن سنة ولما توافدو اليهود مناطق العالم\")"
      ]
    },
    {
      "cell_type": "code",
      "execution_count": null,
      "metadata": {
        "colab": {
          "base_uri": "https://localhost:8080/"
        },
        "id": "FTc_5B5OdxIc",
        "outputId": "9f2d9367-d20d-4626-f015-e85abdf7ca3e"
      },
      "outputs": [
        {
          "output_type": "stream",
          "name": "stdout",
          "text": [
            "سلبي 2.6769916e-11\n"
          ]
        }
      ],
      "source": [
        "classify(\" ولما توافدو اليهود مناطق العالم\")"
      ]
    },
    {
      "cell_type": "code",
      "execution_count": null,
      "metadata": {
        "id": "Q2atRnC1szEF"
      },
      "outputs": [],
      "source": [
        "import csv\n",
        "def create_csv(file, dict):\n",
        "    with open(file, 'w') as csvfile:\n",
        "        writer = csv.writer(csvfile)\n",
        "        for key in dict.keys():\n",
        "            writer.writerow([key,dict[key]])"
      ]
    },
    {
      "cell_type": "code",
      "execution_count": null,
      "metadata": {
        "id": "2gpsbClOs0Z1"
      },
      "outputs": [],
      "source": [
        "create_csv(\"word2index.csv\", tknzr.word_index)"
      ]
    },
    {
      "cell_type": "code",
      "execution_count": null,
      "metadata": {
        "id": "wbm_GKaI8qmn"
      },
      "outputs": [],
      "source": [
        "model.save(\"keras.h5\")"
      ]
    }
  ],
  "metadata": {
    "accelerator": "GPU",
    "colab": {
      "collapsed_sections": [],
      "name": "Essay3algoPFE.ipynb",
      "provenance": []
    },
    "kernelspec": {
      "display_name": "Python 3",
      "language": "python",
      "name": "python3"
    },
    "language_info": {
      "codemirror_mode": {
        "name": "ipython",
        "version": 3
      },
      "file_extension": ".py",
      "mimetype": "text/x-python",
      "name": "python",
      "nbconvert_exporter": "python",
      "pygments_lexer": "ipython3",
      "version": "3.6.5"
    }
  },
  "nbformat": 4,
  "nbformat_minor": 0
}